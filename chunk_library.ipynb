{
 "cells": [
  {
   "cell_type": "markdown",
   "metadata": {},
   "source": [
    "<img src=\"https://portal.ucol.mx/content/micrositios/188/image/Escudo2021/Dos_lineas_Izq/UdeC_2L%20izq_872.png\">\n",
    "\n",
    "\n",
    "# Facultad de Ingeniería Mecánica y Eléctrica (FIME)\n",
    "## Ingeniería en Computación Inteligente\n",
    "## Definiciones del etiquetado de POS\n",
    "## Estudiante: Jesús Eduardo Ceballos Contreras\n",
    "## Profesor: Oswaldo Carrillo Zepeda\n",
    "## Fecha: 20/05/2024\n",
    "## Ubicación: Colima, Col."
   ]
  },
  {
   "cell_type": "markdown",
   "metadata": {},
   "source": [
    "## Adverbio Superlativo (RBS)\n",
    "#### Definición:\n",
    "- RBS (Adverb, superlative): Esta etiqueta se asigna a los adverbios que están en su forma superlativa. Los adverbios superlativos se utilizan para expresar el grado más alto de una cualidad en comparación con otros elementos dentro de un grupo o en relación con una acción.\n",
    "\n",
    "#### Formación de Adverbios Superlativos:\n",
    "1. Adverbios Regulares:\n",
    "\n",
    "- La mayoría de los adverbios en su forma superlativa se forman añadiendo \"most\" o \"least\" antes del adverbio base.\n",
    "    - Ejemplo: \"quickly\" → \"most quickly\", \"least quickly\".\n",
    "\n",
    "2. Adverbios Irregulares:\n",
    "\n",
    "- Algunos adverbios tienen formas irregulares en el superlativo.\n",
    "    - Ejemplo: \"well\" → \"best\", \"badly\" → \"worst\"."
   ]
  },
  {
   "cell_type": "markdown",
   "metadata": {},
   "source": [
    "### Ejemplo de Etiquetado POS con RBS en NLTK:\n",
    "Veamos un ejemplo práctico utilizando NLTK para etiquetar un texto que contiene un adverbio superlativo."
   ]
  },
  {
   "cell_type": "code",
   "execution_count": 1,
   "metadata": {},
   "outputs": [
    {
     "name": "stdout",
     "output_type": "stream",
     "text": [
      "[('She', 'PRP'), ('ran', 'VBD'), ('the', 'DT'), ('most', 'RBS'), ('quickly', 'RB'), ('in', 'IN'), ('the', 'DT'), ('race', 'NN'), ('.', '.')]\n"
     ]
    }
   ],
   "source": [
    "import nltk\n",
    "from nltk.tokenize import word_tokenize\n",
    "from nltk.tag import pos_tag\n",
    "\n",
    "# Texto de ejemplo\n",
    "text = \"She ran the most quickly in the race.\"\n",
    "\n",
    "# Tokenización del texto\n",
    "tokens = word_tokenize(text)\n",
    "\n",
    "# Etiquetado de partes del discurso\n",
    "tagged = pos_tag(tokens)\n",
    "\n",
    "# Mostrar el etiquetado POS\n",
    "print(tagged)\n"
   ]
  },
  {
   "cell_type": "markdown",
   "metadata": {},
   "source": [
    "- 'most' está etiquetado como RBS (Adverbio, superlativo).\n",
    "- 'quickly' está etiquetado como RB (Adverbio)."
   ]
  },
  {
   "cell_type": "markdown",
   "metadata": {},
   "source": [
    "### Conclusión:\n",
    "La etiqueta RBS es crucial para identificar adverbios superlativos en el análisis gramatical y sintáctico del lenguaje. Estos adverbios juegan un papel importante en la descripción de acciones en su grado más alto, y su correcta identificación permite un mejor procesamiento y comprensión del lenguaje natural."
   ]
  }
 ],
 "metadata": {
  "kernelspec": {
   "display_name": "Python 3",
   "language": "python",
   "name": "python3"
  },
  "language_info": {
   "codemirror_mode": {
    "name": "ipython",
    "version": 3
   },
   "file_extension": ".py",
   "mimetype": "text/x-python",
   "name": "python",
   "nbconvert_exporter": "python",
   "pygments_lexer": "ipython3",
   "version": "3.12.3"
  }
 },
 "nbformat": 4,
 "nbformat_minor": 2
}
